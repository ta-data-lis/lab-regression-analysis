{
 "cells": [
  {
   "attachments": {},
   "cell_type": "markdown",
   "metadata": {},
   "source": [
    "# Lab: Regression Analysis"
   ]
  },
  {
   "attachments": {},
   "cell_type": "markdown",
   "metadata": {},
   "source": [
    "### Before you start:\n",
    "\n",
    "* Read the README.md file\n",
    "* Comment as much as you can and use the resources (README.md file) \n",
    "\n",
    "Happy learning!"
   ]
  },
  {
   "attachments": {},
   "cell_type": "markdown",
   "metadata": {},
   "source": [
    "## Challenge 1\n",
    "I work at a coding bootcamp, and I have developed a theory that the younger my students are, the more often they are late to class. In order to test my hypothesis, I have collected some data in the following table:\n",
    "\n",
    "| StudentID | Age | Tardies |\n",
    "|--------|-----|------------|\n",
    "| 1      | 17  | 10         |\n",
    "| 2      | 51  | 1          |\n",
    "| 3      | 27  | 5          |\n",
    "| 4      | 21  | 9         |\n",
    "| 5      | 36  |  4         |\n",
    "| 6      | 48  |  2         |\n",
    "| 7      | 19  |  9         |\n",
    "| 8      | 26  | 6          |\n",
    "| 9      | 54  |  0         |\n",
    "| 10     | 30  |  3         |"
   ]
  },
  {
   "attachments": {},
   "cell_type": "markdown",
   "metadata": {},
   "source": [
    "Use this command to create a dataframe with the data provided in the table. \n",
    "~~~~\n",
    "student_data = pd.DataFrame({'X': [x_values], 'Y': [y_values]})\n",
    "~~~~"
   ]
  },
  {
   "cell_type": "code",
   "execution_count": 68,
   "metadata": {},
   "outputs": [],
   "source": [
    "import pandas as pd\n",
    "import numpy as np\n",
    "import matplotlib.pyplot as plt\n",
    "from sklearn import linear_model\n",
    "from sklearn.metrics import mean_squared_error\n",
    "from scipy import stats"
   ]
  },
  {
   "cell_type": "code",
   "execution_count": 21,
   "metadata": {},
   "outputs": [],
   "source": [
    "# Your code here.\n",
    "student_data = pd.DataFrame({\"Age\": [17, 51, 27, 21, 36, 48, 19, 26, 54, 30], \"Tardies\": [10, 1, 5, 9, 4, 2, 9, 6, 0, 3]})\n",
    "student_data.index +=1\n",
    "student_data.index = student_data.index.rename(\"StudentID\")"
   ]
  },
  {
   "attachments": {},
   "cell_type": "markdown",
   "metadata": {},
   "source": [
    "Draw a dispersion diagram (scatter plot) for the data."
   ]
  },
  {
   "cell_type": "code",
   "execution_count": 26,
   "metadata": {},
   "outputs": [
    {
     "data": {
      "image/png": "[encoded data removed]",
      "text/plain": [
       "<Figure size 640x480 with 1 Axes>"
      ]
     },
     "metadata": {},
     "output_type": "display_data"
    }
   ],
   "source": [
    "# Your code here.\n",
    "plt.scatter(student_data.Age, student_data.Tardies)\n",
    "plt.xlabel(\"Age\")\n",
    "plt.ylabel(\"Tardies\")\n",
    "plt.show()"
   ]
  },
  {
   "attachments": {},
   "cell_type": "markdown",
   "metadata": {},
   "source": [
    "Do you see a trend? Can you make any hypotheses about the relationship between age and number of tardies?"
   ]
  },
  {
   "cell_type": "code",
   "execution_count": null,
   "metadata": {},
   "outputs": [],
   "source": [
    "# Your response here. \n",
    "# From the scatter plot the we can see the trend that younger the student they are more likely to be late and vice versa. \n"
   ]
  },
  {
   "attachments": {},
   "cell_type": "markdown",
   "metadata": {},
   "source": [
    "Calculate the covariance and correlation of the variables in your plot. What is the difference between these two measures? Compare their values. What do they tell you in this case? Add your responses as comments after your code."
   ]
  },
  {
   "cell_type": "code",
   "execution_count": 32,
   "metadata": {},
   "outputs": [
    {
     "name": "stdout",
     "output_type": "stream",
     "text": [
      "The correlation between student age and tardiness is: -0.9391626886887122\n",
      "The covariance between student age and student tardiness is: -45.56666666666666\n"
     ]
    },
    {
     "data": {
      "text/plain": [
       "'\\nCorrelation coefficient is a standardized measure of the linear relationship between two variables, \\nwhich means it has no units and its value range between -1 and 1. It is calculated as the ratio of the covariance\\nbetween the variables to the product of their standard deviations. In this example: the correlation coeff of -0.94 \\nrepresent that the age and tarddiness are perfect negatively correlated with each other\\n\\nCovariance is a measure of how two variables change together. It is calculated as the average of the product of the deviations\\nof each variable from its mean. A positive covariance indicates that the variables tend to move in the same direction,\\nwhile a negative covariance indicates that the variables tend to move in opposite directions. \\nHowever, unlike correlation the magnitude of the covariance is difficult to interpret since it depends on the units of the variables. In out example: \\nthe covariance of -45.57 indicates that the two variable moves in opposite direction but by what magnitude is hard to tell. \\n'"
      ]
     },
     "execution_count": 32,
     "metadata": {},
     "output_type": "execute_result"
    }
   ],
   "source": [
    "# Your response here.\n",
    "#correlation:\n",
    "print(f\"The correlation between student age and tardiness is: {student_data.Age.corr(student_data.Tardies)}\")\n",
    "\n",
    "#covariance:\n",
    "print(f\"The covariance between student age and student tardiness is: {student_data.Age.cov(student_data.Tardies)}\")\n",
    "\n",
    "\"\"\"\n",
    "Correlation coefficient is a standardized measure of the linear relationship between two variables, \n",
    "which means it has no units and its value range between -1 and 1. It is calculated as the ratio of the covariance\n",
    "between the variables to the product of their standard deviations. In this example: the correlation coeff of -0.94 \n",
    "represent that the age and tarddiness are perfect negatively correlated with each other\n",
    "\n",
    "Covariance is a measure of how two variables change together. It is calculated as the average of the product of the deviations\n",
    "of each variable from its mean. A positive covariance indicates that the variables tend to move in the same direction,\n",
    "while a negative covariance indicates that the variables tend to move in opposite directions. \n",
    "However, unlike correlation the magnitude of the covariance is difficult to interpret since it depends on the units of the variables. In out example: \n",
    "the covariance of -45.57 indicates that the two variable moves in opposite direction but by what magnitude is hard to tell. \n",
    "\"\"\""
   ]
  },
  {
   "attachments": {},
   "cell_type": "markdown",
   "metadata": {},
   "source": [
    "Build a regression model for this data. What will be your outcome variable? What type of regression are you using? Add your responses as comments after your code."
   ]
  },
  {
   "cell_type": "code",
   "execution_count": 47,
   "metadata": {},
   "outputs": [
    {
     "data": {
      "text/plain": [
       "array([[-0.24282077]])"
      ]
     },
     "metadata": {},
     "output_type": "display_data"
    },
    {
     "data": {
      "text/plain": [
       "array([12.88880336])"
      ]
     },
     "metadata": {},
     "output_type": "display_data"
    }
   ],
   "source": [
    "# Your response here.\n",
    "# The outcome variable for this regression model will be Tardiness which is dependent on the age of student. \n",
    "# for this model i am using linear regression which mode the linear remationship between a dependent variable and one or more indenpendent variable\n",
    "# Assuming that there is linear relationship between the dependent variable and the indenpendent variable, \n",
    "#and futrher seeks to find the equation of the straight line that best fits the data. \n",
    "\n",
    "# Lets, initialize the model\n",
    "model = linear_model.LinearRegression()\n",
    "\n",
    "# Now fit model in our data\n",
    "result = model.fit(student_data[[\"Age\"]], student_data[[\"Tardies\"]])\n",
    "\n",
    "# Now, define a regression line:\n",
    "regression_line = result.intercept_ + result.coef_[0]*student_data[\"Age\"]\n",
    "\n",
    "display(result.coef_)\n",
    "display(result.intercept_)\n",
    "# under this model, the average student has baseline tardiness of 12.89 when the age is 0, \n",
    "# as age increase by each point the tardiness will decrease by 0.24"
   ]
  },
  {
   "attachments": {},
   "cell_type": "markdown",
   "metadata": {},
   "source": [
    "Plot your regression model on your scatter plot."
   ]
  },
  {
   "cell_type": "code",
   "execution_count": 43,
   "metadata": {},
   "outputs": [
    {
     "data": {
      "image/png": "[encoded data removed]",
      "text/plain": [
       "<Figure size 640x480 with 1 Axes>"
      ]
     },
     "metadata": {},
     "output_type": "display_data"
    }
   ],
   "source": [
    "# Your code here.\n",
    "plt.scatter(student_data.Age, student_data.Tardies, c = \"blue\")\n",
    "plt.plot(student_data.Age, regression_line, c = \"orange\")\n",
    "plt.xlabel(\"Age\")\n",
    "plt.ylabel(\"Tardies\")\n",
    "plt.show()"
   ]
  },
  {
   "attachments": {},
   "cell_type": "markdown",
   "metadata": {},
   "source": [
    "Interpret the results of your model. What can conclusions can you draw from your model and how confident in these conclusions are you? Can we say that age is a good predictor of tardiness? Add your responses as comments after your code."
   ]
  },
  {
   "cell_type": "code",
   "execution_count": 59,
   "metadata": {},
   "outputs": [
    {
     "data": {
      "text/plain": [
       "array([1.47622713])"
      ]
     },
     "metadata": {},
     "output_type": "display_data"
    },
    {
     "data": {
      "text/plain": [
       "array([4.39007638])"
      ]
     },
     "metadata": {},
     "output_type": "display_data"
    },
    {
     "data": {
      "text/plain": [
       "array([8.27520872])"
      ]
     },
     "metadata": {},
     "output_type": "display_data"
    },
    {
     "data": {
      "text/plain": [
       "1.3319201847356268"
      ]
     },
     "metadata": {},
     "output_type": "display_data"
    }
   ],
   "source": [
    "# Your response here. \n",
    "# to check the result of the model lets manually check the prediction of the model by feeding ages [70, 35, 19]\n",
    "display(result.intercept_ + result.coef_[0]*47)\n",
    "display(result.intercept_ + result.coef_[0]*35)\n",
    "display(result.intercept_ + result.coef_[0]*19)\n",
    "#  the predicted result of model are quiet close to the data in out data\n",
    "# lets check the how much of the variability of the dependent variable is explained by the independent variable using r-squared: \n",
    "result.score(student_data[[\"Age\"]], student_data[[\"Tardies\"]])\n",
    "\n",
    "# r-squared of the 0.82 means that the model is able to account for 82% of the variability in the dependent\n",
    "# variable \"Tardies\" can be explained by independent variable age\n",
    "\n",
    "display(mean_squared_error(result.predict(student_data[[\"Age\"]]),student_data[[\"Tardies\"]]))\n"
   ]
  },
  {
   "attachments": {},
   "cell_type": "markdown",
   "metadata": {},
   "source": [
    "## Challenge 2\n",
    "For the second part of this lab, we will use the vehicles.csv data set. You can find a copy of the dataset in the git hub folder. This dataset includes variables related to vehicle characteristics, including the model, make, and energy efficiency standards, as well as each car's CO2 emissions. As discussed in class the goal of this exercise is to predict vehicles' CO2 emissions based on several independent variables. "
   ]
  },
  {
   "cell_type": "code",
   "execution_count": 63,
   "metadata": {},
   "outputs": [
    {
     "data": {
      "text/html": [
       "<div>\n",
       "<style scoped>\n",
       "    .dataframe tbody tr th:only-of-type {\n",
       "        vertical-align: middle;\n",
       "    }\n",
       "\n",
       "    .dataframe tbody tr th {\n",
       "        vertical-align: top;\n",
       "    }\n",
       "\n",
       "    .dataframe thead th {\n",
       "        text-align: right;\n",
       "    }\n",
       "</style>\n",
       "<table border=\"1\" class=\"dataframe\">\n",
       "  <thead>\n",
       "    <tr style=\"text-align: right;\">\n",
       "      <th></th>\n",
       "      <th>Make</th>\n",
       "      <th>Model</th>\n",
       "      <th>Year</th>\n",
       "      <th>Engine Displacement</th>\n",
       "      <th>Cylinders</th>\n",
       "      <th>Transmission</th>\n",
       "      <th>Drivetrain</th>\n",
       "      <th>Vehicle Class</th>\n",
       "      <th>Fuel Type</th>\n",
       "      <th>Fuel Barrels/Year</th>\n",
       "      <th>City MPG</th>\n",
       "      <th>Highway MPG</th>\n",
       "      <th>Combined MPG</th>\n",
       "      <th>CO2 Emission Grams/Mile</th>\n",
       "      <th>Fuel Cost/Year</th>\n",
       "    </tr>\n",
       "  </thead>\n",
       "  <tbody>\n",
       "    <tr>\n",
       "      <th>0</th>\n",
       "      <td>AM General</td>\n",
       "      <td>DJ Po Vehicle 2WD</td>\n",
       "      <td>1984</td>\n",
       "      <td>2.5</td>\n",
       "      <td>4.0</td>\n",
       "      <td>Automatic 3-spd</td>\n",
       "      <td>2-Wheel Drive</td>\n",
       "      <td>Special Purpose Vehicle 2WD</td>\n",
       "      <td>Regular</td>\n",
       "      <td>19.388824</td>\n",
       "      <td>18</td>\n",
       "      <td>17</td>\n",
       "      <td>17</td>\n",
       "      <td>522.764706</td>\n",
       "      <td>1950</td>\n",
       "    </tr>\n",
       "    <tr>\n",
       "      <th>1</th>\n",
       "      <td>AM General</td>\n",
       "      <td>FJ8c Post Office</td>\n",
       "      <td>1984</td>\n",
       "      <td>4.2</td>\n",
       "      <td>6.0</td>\n",
       "      <td>Automatic 3-spd</td>\n",
       "      <td>2-Wheel Drive</td>\n",
       "      <td>Special Purpose Vehicle 2WD</td>\n",
       "      <td>Regular</td>\n",
       "      <td>25.354615</td>\n",
       "      <td>13</td>\n",
       "      <td>13</td>\n",
       "      <td>13</td>\n",
       "      <td>683.615385</td>\n",
       "      <td>2550</td>\n",
       "    </tr>\n",
       "    <tr>\n",
       "      <th>2</th>\n",
       "      <td>AM General</td>\n",
       "      <td>Post Office DJ5 2WD</td>\n",
       "      <td>1985</td>\n",
       "      <td>2.5</td>\n",
       "      <td>4.0</td>\n",
       "      <td>Automatic 3-spd</td>\n",
       "      <td>Rear-Wheel Drive</td>\n",
       "      <td>Special Purpose Vehicle 2WD</td>\n",
       "      <td>Regular</td>\n",
       "      <td>20.600625</td>\n",
       "      <td>16</td>\n",
       "      <td>17</td>\n",
       "      <td>16</td>\n",
       "      <td>555.437500</td>\n",
       "      <td>2100</td>\n",
       "    </tr>\n",
       "    <tr>\n",
       "      <th>3</th>\n",
       "      <td>AM General</td>\n",
       "      <td>Post Office DJ8 2WD</td>\n",
       "      <td>1985</td>\n",
       "      <td>4.2</td>\n",
       "      <td>6.0</td>\n",
       "      <td>Automatic 3-spd</td>\n",
       "      <td>Rear-Wheel Drive</td>\n",
       "      <td>Special Purpose Vehicle 2WD</td>\n",
       "      <td>Regular</td>\n",
       "      <td>25.354615</td>\n",
       "      <td>13</td>\n",
       "      <td>13</td>\n",
       "      <td>13</td>\n",
       "      <td>683.615385</td>\n",
       "      <td>2550</td>\n",
       "    </tr>\n",
       "    <tr>\n",
       "      <th>4</th>\n",
       "      <td>ASC Incorporated</td>\n",
       "      <td>GNX</td>\n",
       "      <td>1987</td>\n",
       "      <td>3.8</td>\n",
       "      <td>6.0</td>\n",
       "      <td>Automatic 4-spd</td>\n",
       "      <td>Rear-Wheel Drive</td>\n",
       "      <td>Midsize Cars</td>\n",
       "      <td>Premium</td>\n",
       "      <td>20.600625</td>\n",
       "      <td>14</td>\n",
       "      <td>21</td>\n",
       "      <td>16</td>\n",
       "      <td>555.437500</td>\n",
       "      <td>2550</td>\n",
       "    </tr>\n",
       "  </tbody>\n",
       "</table>\n",
       "</div>"
      ],
      "text/plain": [
       "               Make                Model  Year  Engine Displacement  \\\n",
       "0        AM General    DJ Po Vehicle 2WD  1984                  2.5   \n",
       "1        AM General     FJ8c Post Office  1984                  4.2   \n",
       "2        AM General  Post Office DJ5 2WD  1985                  2.5   \n",
       "3        AM General  Post Office DJ8 2WD  1985                  4.2   \n",
       "4  ASC Incorporated                  GNX  1987                  3.8   \n",
       "\n",
       "   Cylinders     Transmission        Drivetrain                Vehicle Class  \\\n",
       "0        4.0  Automatic 3-spd     2-Wheel Drive  Special Purpose Vehicle 2WD   \n",
       "1        6.0  Automatic 3-spd     2-Wheel Drive  Special Purpose Vehicle 2WD   \n",
       "2        4.0  Automatic 3-spd  Rear-Wheel Drive  Special Purpose Vehicle 2WD   \n",
       "3        6.0  Automatic 3-spd  Rear-Wheel Drive  Special Purpose Vehicle 2WD   \n",
       "4        6.0  Automatic 4-spd  Rear-Wheel Drive                 Midsize Cars   \n",
       "\n",
       "  Fuel Type  Fuel Barrels/Year  City MPG  Highway MPG  Combined MPG  \\\n",
       "0   Regular          19.388824        18           17            17   \n",
       "1   Regular          25.354615        13           13            13   \n",
       "2   Regular          20.600625        16           17            16   \n",
       "3   Regular          25.354615        13           13            13   \n",
       "4   Premium          20.600625        14           21            16   \n",
       "\n",
       "   CO2 Emission Grams/Mile  Fuel Cost/Year  \n",
       "0               522.764706            1950  \n",
       "1               683.615385            2550  \n",
       "2               555.437500            2100  \n",
       "3               683.615385            2550  \n",
       "4               555.437500            2550  "
      ]
     },
     "execution_count": 63,
     "metadata": {},
     "output_type": "execute_result"
    }
   ],
   "source": [
    "# Import any libraries you may need & the data\n",
    "vehicle = pd.read_csv(\"vehicles.csv\")\n",
    "vehicle.head()"
   ]
  },
  {
   "attachments": {},
   "cell_type": "markdown",
   "metadata": {},
   "source": [
    "Let's use the following variables for our analysis: Year, Cylinders, Fuel Barrels/Year, Combined MPG, and Fuel Cost/Year. We will use 'CO2 Emission Grams/Mile' as our outcome variable. \n",
    "\n",
    "Calculate the correlations between each of these variables and the outcome. Which variable do you think will be the most important in determining CO2 emissions? Which provides the least amount of helpful information for determining CO2 emissions? Add your responses as comments after your code."
   ]
  },
  {
   "cell_type": "code",
   "execution_count": 85,
   "metadata": {},
   "outputs": [
    {
     "data": {
      "text/plain": [
       "{'Year': -0.22229960295054224,\n",
       " 'Cylinders': 0.7523925537297491,\n",
       " 'Fuel Barrels/Year': 0.986188662142873,\n",
       " 'Combined MPG': -0.9262290389336449,\n",
       " 'Fuel Cost/Year': 0.9308651512201838}"
      ]
     },
     "execution_count": 85,
     "metadata": {},
     "output_type": "execute_result"
    }
   ],
   "source": [
    "# Your response here. \n",
    "list_variable = ['Year', 'Cylinders', 'Fuel Barrels/Year', 'Combined MPG', 'Fuel Cost/Year']\n",
    "\n",
    "corr_coef = {}\n",
    "\n",
    "for ele in list_variable:\n",
    "    corr, p  = stats.pearsonr(vehicle[\"CO2 Emission Grams/Mile\"], vehicle[ele])\n",
    "    corr_coef[ele] = corr\n",
    "\n",
    "print(corr_coef)\n",
    "\n",
    "# based on the resulting correlation coefficient the important varaible describing co2 emission is fuel barrrels year followed by fuel cost year\n",
    "# and cylinders however in contrast of all combined MPG has the negative correlation with the co2 emission. The least helpful for providing information of co2 emission is year. \n"
   ]
  },
  {
   "attachments": {},
   "cell_type": "markdown",
   "metadata": {},
   "source": [
    "Build a regression model for this data. What type of regression are you using? Add your responses as comments after your code."
   ]
  },
  {
   "cell_type": "code",
   "execution_count": 101,
   "metadata": {},
   "outputs": [
    {
     "data": {
      "text/plain": [
       "array([2.00966677e+03, 4.92752442e-01, 2.10138525e-02, 3.88335103e+01,\n",
       "       8.63127456e+00])"
      ]
     },
     "metadata": {},
     "output_type": "display_data"
    },
    {
     "data": {
      "text/plain": [
       "array([[-0.01883035],\n",
       "       [ 0.01109224],\n",
       "       [ 0.03700281],\n",
       "       [-0.0397718 ],\n",
       "       [ 3.96360704]])"
      ]
     },
     "metadata": {},
     "output_type": "display_data"
    },
    {
     "data": {
      "text/plain": [
       "'Here we are predicting the amount of CO2 emission caused by different variables, \\nthe predicting variable is continuous in nature so in this case i am using linear regression. \\nAccording to this model 66% of variability in dependent variable are explained by independent variables.'"
      ]
     },
     "execution_count": 101,
     "metadata": {},
     "output_type": "execute_result"
    }
   ],
   "source": [
    "# Your response here. \n",
    "x = vehicle[[\"CO2 Emission Grams/Mile\"]]\n",
    "y = vehicle[['Year', 'Cylinders', 'Fuel Barrels/Year', 'Combined MPG', 'Fuel Cost/Year']]\n",
    "# initialize the model\n",
    "\n",
    "model = linear_model.LinearRegression()\n",
    "\n",
    "# Train the model with our data\n",
    "model.fit(x,y)\n",
    "\n",
    "display(model.intercept_)\n",
    "display(model.coef_)\n",
    "\n",
    "\n",
    "\n",
    "\n",
    "\n",
    "\n",
    "\n",
    "\n",
    "\"\"\"Here we are predicting the amount of CO2 emission caused by different variables, \n",
    "the predicting variable is continuous in nature so in this case i am using linear regression. \n",
    "According to this model 66% of variability in dependent variable are explained by independent variables.\"\"\""
   ]
  },
  {
   "attachments": {},
   "cell_type": "markdown",
   "metadata": {},
   "source": [
    "Print your regression summary, and interpret the results. What are the most important varibles in your model and why? What can conclusions can you draw from your model and how confident in these conclusions are you? Add your responses as comments after your code."
   ]
  },
  {
   "cell_type": "code",
   "execution_count": 108,
   "metadata": {},
   "outputs": [
    {
     "data": {
      "text/plain": [
       "array([[-0.01883035],\n",
       "       [ 0.01109224],\n",
       "       [ 0.03700281],\n",
       "       [-0.0397718 ],\n",
       "       [ 3.96360704]])"
      ]
     },
     "metadata": {},
     "output_type": "display_data"
    },
    {
     "data": {
      "text/plain": [
       "array([2.00966677e+03, 4.92752442e-01, 2.10138525e-02, 3.88335103e+01,\n",
       "       8.63127456e+00])"
      ]
     },
     "metadata": {},
     "output_type": "display_data"
    },
    {
     "name": "stdout",
     "output_type": "stream",
     "text": [
      "82.95687680962442\n",
      "0.6624979816078372\n"
     ]
    }
   ],
   "source": [
    "# Your response here. \n",
    "display(model.coef_)\n",
    "display(model.intercept_)\n",
    "pred = model.predict(x)\n",
    "print(np.sqrt(mean_squared_error(pred, y)))\n",
    "r_squared = model.score(x,y)\n",
    "print(r_squared)\n",
    "\n",
    "\"\"\"\n",
    "These coefficients represent the change in the response variable (CO2 Emission Grams/Mile) associated with a\n",
    "one-unit increase in each predictor variable, holding all other predictor variables constant. For example,\n",
    "for a one-unit increase in \"Fuel Cost/Year\", we would expect to see an increase of approximately 3.96 units in CO2 Emission Grams/Mile,\n",
    "assuming all other predictors are held constant.\n",
    " \"\"\"\n"
   ]
  },
  {
   "attachments": {},
   "cell_type": "markdown",
   "metadata": {},
   "source": [
    "## Challenge 2: Error Analysis"
   ]
  },
  {
   "attachments": {},
   "cell_type": "markdown",
   "metadata": {},
   "source": [
    "I am suspicious about the last few parties I have thrown: it seems that the more people I invite the more people are unable to attend. To know if my hunch is supported by data, I have decided to do an analysis. I have collected my data in the table below, where X is the number of people I invited, and Y is the number of people who attended. \n",
    "\n",
    "|  X |  Y |\n",
    "|----|----|\n",
    "| 1  |  1 |\n",
    "| 3  |  2 |\n",
    "| 4  |  4 |\n",
    "| 6  |  4 |\n",
    "| 8  |  5 |\n",
    "| 9  |  7 |\n",
    "| 11 |  8 |\n",
    "| 14 |  13 |"
   ]
  },
  {
   "attachments": {},
   "cell_type": "markdown",
   "metadata": {},
   "source": [
    "We want to know if the relationship modeled by the two random variables is linear or not, and therefore if it is appropriate to model it with a linear regression. \n",
    "First, build a dataframe with the data. "
   ]
  },
  {
   "cell_type": "code",
   "execution_count": 113,
   "metadata": {},
   "outputs": [
    {
     "data": {
      "text/html": [
       "<div>\n",
       "<style scoped>\n",
       "    .dataframe tbody tr th:only-of-type {\n",
       "        vertical-align: middle;\n",
       "    }\n",
       "\n",
       "    .dataframe tbody tr th {\n",
       "        vertical-align: top;\n",
       "    }\n",
       "\n",
       "    .dataframe thead th {\n",
       "        text-align: right;\n",
       "    }\n",
       "</style>\n",
       "<table border=\"1\" class=\"dataframe\">\n",
       "  <thead>\n",
       "    <tr style=\"text-align: right;\">\n",
       "      <th></th>\n",
       "      <th>invited</th>\n",
       "      <th>real</th>\n",
       "    </tr>\n",
       "  </thead>\n",
       "  <tbody>\n",
       "    <tr>\n",
       "      <th>0</th>\n",
       "      <td>1</td>\n",
       "      <td>1</td>\n",
       "    </tr>\n",
       "    <tr>\n",
       "      <th>1</th>\n",
       "      <td>3</td>\n",
       "      <td>2</td>\n",
       "    </tr>\n",
       "    <tr>\n",
       "      <th>2</th>\n",
       "      <td>4</td>\n",
       "      <td>4</td>\n",
       "    </tr>\n",
       "    <tr>\n",
       "      <th>3</th>\n",
       "      <td>6</td>\n",
       "      <td>4</td>\n",
       "    </tr>\n",
       "    <tr>\n",
       "      <th>4</th>\n",
       "      <td>8</td>\n",
       "      <td>5</td>\n",
       "    </tr>\n",
       "    <tr>\n",
       "      <th>5</th>\n",
       "      <td>9</td>\n",
       "      <td>7</td>\n",
       "    </tr>\n",
       "    <tr>\n",
       "      <th>6</th>\n",
       "      <td>11</td>\n",
       "      <td>8</td>\n",
       "    </tr>\n",
       "    <tr>\n",
       "      <th>7</th>\n",
       "      <td>14</td>\n",
       "      <td>13</td>\n",
       "    </tr>\n",
       "  </tbody>\n",
       "</table>\n",
       "</div>"
      ],
      "text/plain": [
       "   invited  real\n",
       "0        1     1\n",
       "1        3     2\n",
       "2        4     4\n",
       "3        6     4\n",
       "4        8     5\n",
       "5        9     7\n",
       "6       11     8\n",
       "7       14    13"
      ]
     },
     "execution_count": 113,
     "metadata": {},
     "output_type": "execute_result"
    }
   ],
   "source": [
    "# Your code here.\n",
    "invite = pd.DataFrame({\"invited\": [1,3,4,6,8,9,11,14], \"real\": [1,2,4,4,5,7,8,13]})\n",
    "invite"
   ]
  },
  {
   "attachments": {},
   "cell_type": "markdown",
   "metadata": {},
   "source": [
    "Draw a dispersion diagram (scatter plot) for the data, and fit a regression line."
   ]
  },
  {
   "cell_type": "code",
   "execution_count": 153,
   "metadata": {},
   "outputs": [
    {
     "data": {
      "image/png": "[encoded data removed]",
      "text/plain": [
       "<Figure size 640x480 with 1 Axes>"
      ]
     },
     "metadata": {},
     "output_type": "display_data"
    },
    {
     "data": {
      "text/plain": [
       "0.9316696375519905"
      ]
     },
     "execution_count": 153,
     "metadata": {},
     "output_type": "execute_result"
    }
   ],
   "source": [
    "# Your code here.\n",
    "\n",
    "\n",
    "x = invite[[\"invited\"]]\n",
    "y = invite[[\"real\"]]\n",
    "\n",
    "# initialize the model for regression\n",
    "model = linear_model.LinearRegression()\n",
    "\n",
    "# train the model with the data\n",
    "model.fit(x,y)\n",
    "\n",
    "# make regression line:\n",
    "regression_line = model.intercept_ + model.coef_[0]*x\n",
    "\n",
    "# plot the data in  scatter diagram\n",
    "plt.scatter(invite.invited, invite.real)\n",
    "plt.plot(x, regression_line, c = \"orange\")\n",
    "plt.show()\n",
    "\n",
    "model.score(x,y)\n",
    "\n",
    "\n",
    "\n",
    "\n",
    "\n"
   ]
  },
  {
   "attachments": {},
   "cell_type": "markdown",
   "metadata": {},
   "source": [
    "What do you see? What does this plot tell you about the likely relationship between the variables? Print the results from your regression."
   ]
  },
  {
   "cell_type": "code",
   "execution_count": 150,
   "metadata": {},
   "outputs": [
    {
     "name": "stdout",
     "output_type": "stream",
     "text": [
      "[[ 0.40909091]\n",
      " [ 2.10606061]\n",
      " [ 2.95454545]\n",
      " [ 4.65151515]\n",
      " [ 6.34848485]\n",
      " [ 7.1969697 ]\n",
      " [ 8.89393939]\n",
      " [11.43939394]]\n",
      "0     1\n",
      "1     2\n",
      "2     4\n",
      "3     4\n",
      "4     5\n",
      "5     7\n",
      "6     8\n",
      "7    13\n",
      "Name: real, dtype: int64\n",
      "       real\n",
      "0  0.590909\n",
      "1 -0.106061\n",
      "2  1.045455\n",
      "3 -0.651515\n",
      "4 -1.348485\n",
      "5 -0.196970\n",
      "6 -0.893939\n",
      "7  1.560606\n"
     ]
    }
   ],
   "source": [
    "# Your response here. \n",
    "predicted = model.predict(x)\n",
    "print(predicted)\n",
    "print(invite.real)\n",
    "\n",
    "residuals = invite[[\"real\"]] - predicted\n",
    "print(residuals)\n",
    "\n",
    "\n",
    "# Based on the given data, we can say that the relationship between the two variables is likely to be linear.\n",
    "# This is because the predicted result from the regression line follows a roughly linear pattern as the values of the independent variable increase.\n"
   ]
  },
  {
   "attachments": {},
   "cell_type": "markdown",
   "metadata": {},
   "source": [
    "Do you see any problematic points, or outliers, in your data? Remove these points and recalculate your regression. Print the new dispersion diagram with your new model and the results of your model. "
   ]
  },
  {
   "cell_type": "code",
   "execution_count": 155,
   "metadata": {},
   "outputs": [
    {
     "data": {
      "image/png": "[encoded data removed]",
      "text/plain": [
       "<Figure size 640x480 with 1 Axes>"
      ]
     },
     "metadata": {},
     "output_type": "display_data"
    },
    {
     "name": "stdout",
     "output_type": "stream",
     "text": [
      "[[1.0075188 ]\n",
      " [2.37593985]\n",
      " [3.06015038]\n",
      " [4.42857143]\n",
      " [5.79699248]\n",
      " [6.48120301]\n",
      " [7.84962406]]\n",
      "0    1\n",
      "1    2\n",
      "2    4\n",
      "3    4\n",
      "4    5\n",
      "5    7\n",
      "6    8\n",
      "Name: real, dtype: int64\n",
      "       real\n",
      "0 -0.007519\n",
      "1 -0.375940\n",
      "2  0.939850\n",
      "3 -0.428571\n",
      "4 -0.796992\n",
      "5  0.518797\n",
      "6  0.150376\n"
     ]
    },
    {
     "data": {
      "text/plain": [
       "0.9433811802232854"
      ]
     },
     "execution_count": 155,
     "metadata": {},
     "output_type": "execute_result"
    }
   ],
   "source": [
    "# Your response here. \n",
    "\n",
    "# There is one data point [14, 11] with the highest residual, which might be driving the regression line to greater distance\n",
    "# lets try remove and test again:\n",
    "# removing [11,14]\n",
    "new_df = invite[0:7]\n",
    "\n",
    "x = new_df[[\"invited\"]]\n",
    "y = new_df[[\"real\"]]\n",
    "\n",
    "# initialize the model for regression\n",
    "model = linear_model.LinearRegression()\n",
    "\n",
    "# train the model with the data\n",
    "model.fit(x,y)\n",
    "\n",
    "# make regression line:\n",
    "regression_line = model.intercept_+ model.coef_[0]*x\n",
    "\n",
    "# plot the data in  scatter diagram\n",
    "plt.scatter(x,y)\n",
    "plt.plot(x, regression_line, c = \"orange\")\n",
    "plt.show()\n",
    "\n",
    "print(model.predict(x))\n",
    "print(new_df[\"real\"])\n",
    "residuals = new_df[[\"real\"]] - model.predict(x)\n",
    "print(residuals)\n",
    "\n",
    "model.score(x,y)\n"
   ]
  },
  {
   "attachments": {},
   "cell_type": "markdown",
   "metadata": {},
   "source": [
    "What changed? Based on the results of the two models and your graphs, what can you say about the form of the data with the problematic point and without it?"
   ]
  },
  {
   "cell_type": "code",
   "execution_count": null,
   "metadata": {},
   "outputs": [],
   "source": [
    "# Your response here. \n",
    "# In the first graph the value of absolute residualw  were higher than 1 in three data point, \n",
    "# but when the data point with higher absolute removed, in second model all the absolute residuals were \n",
    "#limited to the range of 0-1 and also the r-squared also increased form 0.9316 to 0.943"
   ]
  }
 ],
 "metadata": {
  "kernelspec": {
   "display_name": "Python 3",
   "language": "python",
   "name": "python3"
  },
  "language_info": {
   "codemirror_mode": {
    "name": "ipython",
    "version": 3
   },
   "file_extension": ".py",
   "mimetype": "text/x-python",
   "name": "python",
   "nbconvert_exporter": "python",
   "pygments_lexer": "ipython3",
   "version": "3.9.13"
  }
 },
 "nbformat": 4,
 "nbformat_minor": 2
}

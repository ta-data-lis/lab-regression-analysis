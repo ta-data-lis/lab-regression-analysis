{
 "cells": [
  {
   "cell_type": "markdown",
   "metadata": {},
   "source": [
    "# Lab: Regression Analysis"
   ]
  },
  {
   "cell_type": "markdown",
   "metadata": {},
   "source": [
    "### Before you start:\n",
    "\n",
    "* Read the README.md file\n",
    "* Comment as much as you can and use the resources (README.md file) \n",
    "\n",
    "Happy learning!"
   ]
  },
  {
   "cell_type": "markdown",
   "metadata": {},
   "source": [
    "## Challenge 1\n",
    "I work at a coding bootcamp, and I have developed a theory that the younger my students are, the more often they are late to class. In order to test my hypothesis, I have collected some data in the following table:\n",
    "\n",
    "| StudentID | Age | Tardies |\n",
    "|--------|-----|------------|\n",
    "| 1      | 17  | 10         |\n",
    "| 2      | 51  | 1          |\n",
    "| 3      | 27  | 5          |\n",
    "| 4      | 21  | 9         |\n",
    "| 5      | 36  |  4         |\n",
    "| 6      | 48  |  2         |\n",
    "| 7      | 19  |  9         |\n",
    "| 8      | 26  | 6          |\n",
    "| 9      | 54  |  0         |\n",
    "| 10     | 30  |  3         |"
   ]
  },
  {
   "cell_type": "markdown",
   "metadata": {},
   "source": [
    "Use this command to create a dataframe with the data provided in the table. \n",
    "~~~~\n",
    "student_data = pd.DataFrame({'X': [x_values], 'Y': [y_values]})\n",
    "~~~~"
   ]
  },
  {
   "cell_type": "code",
   "execution_count": 15,
   "metadata": {},
   "outputs": [],
   "source": [
    "# Your code here.\n",
    "import numpy as np\n",
    "import pandas as pd\n",
    "import matplotlib\n",
    "import matplotlib.pyplot as plt\n",
    "\n",
    "student_data = pd.DataFrame({'Age': [17, 51,27, 21, 36,48,19,26,54,30], 'Tardies': [10,1,5,9,4,2,9,6,0,3]})"
   ]
  },
  {
   "cell_type": "markdown",
   "metadata": {},
   "source": [
    "Draw a dispersion diagram (scatter plot) for the data."
   ]
  },
  {
   "cell_type": "code",
   "execution_count": 14,
   "metadata": {},
   "outputs": [
    {
     "data": {
      "image/png": "[encoded data removed]",
      "text/plain": [
       "<Figure size 432x288 with 1 Axes>"
      ]
     },
     "metadata": {
      "needs_background": "light"
     },
     "output_type": "display_data"
    }
   ],
   "source": [
    "# Your code here.\n",
    "\n",
    "student_data.plot.scatter('Age', 'Tardies')\n",
    "plt.show()"
   ]
  },
  {
   "cell_type": "markdown",
   "metadata": {},
   "source": [
    "Do you see a trend? Can you make any hypotheses about the relationship between age and number of tardies?"
   ]
  },
  {
   "cell_type": "code",
   "execution_count": null,
   "metadata": {},
   "outputs": [],
   "source": [
    "# Your response here. \n",
    "# the scatterplot indicates a negative correlation btw. age and tardies, onlx the one with age 30 doesnt fit well"
   ]
  },
  {
   "cell_type": "markdown",
   "metadata": {},
   "source": [
    "Calculate the covariance and correlation of the variables in your plot. What is the difference between these two measures? Compare their values. What do they tell you in this case? Add your responses as comments after your code."
   ]
  },
  {
   "cell_type": "code",
   "execution_count": 17,
   "metadata": {},
   "outputs": [
    {
     "name": "stdout",
     "output_type": "stream",
     "text": [
      "[[ 1.         -0.93916269]\n",
      " [-0.93916269  1.        ]]\n"
     ]
    },
    {
     "data": {
      "text/plain": [
       "array([[187.65555556, -45.56666667],\n",
       "       [-45.56666667,  12.54444444]])"
      ]
     },
     "execution_count": 17,
     "metadata": {},
     "output_type": "execute_result"
    }
   ],
   "source": [
    "# Your response here.\n",
    "#correlation:\n",
    "print(np.corrcoef(student_data['Age'], student_data['Tardies']))\n",
    "\n",
    "#covariance:\n",
    "np.cov(student_data['Age'], student_data['Tardies'])"
   ]
  },
  {
   "cell_type": "code",
   "execution_count": null,
   "metadata": {},
   "outputs": [],
   "source": [
    "''' Comments:\n",
    "\n",
    "Correaltion is the \"standardised\" covariance.\n",
    "\n",
    "Here, correlation is -0.9239\n",
    "the covariance is -45.7\n",
    "\n",
    "the relation is: corr = cov / (var_age^1/2, var_tardies^1/2)  \n",
    "\n",
    "var_age = 187\n",
    "var_tardies = 12.5\n",
    "\n",
    "'''"
   ]
  },
  {
   "cell_type": "markdown",
   "metadata": {},
   "source": [
    "Build a regression model for this data. What will be your outcome variable? What type of regression are you using? Add your responses as comments after your code."
   ]
  },
  {
   "cell_type": "code",
   "execution_count": 56,
   "metadata": {},
   "outputs": [],
   "source": [
    "# Your response here.\n",
    "X = student_data['Age']\n",
    "Y = student_data['Tardies']\n",
    "slope, intercept, r_value, p_value, std_err = stats.linregress(X, Y)\n",
    "\n",
    "# outcome variable: Tartdies\n",
    "#linear regression, with only one variable, also called OLS (ordinary least square)"
   ]
  },
  {
   "cell_type": "markdown",
   "metadata": {},
   "source": [
    "Plot your regression model on your scatter plot."
   ]
  },
  {
   "cell_type": "code",
   "execution_count": 59,
   "metadata": {},
   "outputs": [
    {
     "data": {
      "image/png": "[encoded data removed]",
      "text/plain": [
       "<Figure size 432x288 with 1 Axes>"
      ]
     },
     "metadata": {
      "needs_background": "light"
     },
     "output_type": "display_data"
    }
   ],
   "source": [
    "# Your code here.\n",
    "intercept\n",
    "\n",
    "\n",
    "Y_pred = intercept + slope * student_data['Age']\n",
    "\n",
    "\n",
    "plt.scatter(X, Y)\n",
    "plt.plot(X, Y_pred, color='red')\n",
    "plt.show()"
   ]
  },
  {
   "cell_type": "markdown",
   "metadata": {},
   "source": [
    "Interpret the results of your model. What can conclusions can you draw from your model and how confident in these conclusions are you? Can we say that age is a good predictor of tardiness? Add your responses as comments after your code."
   ]
  },
  {
   "cell_type": "code",
   "execution_count": 64,
   "metadata": {},
   "outputs": [
    {
     "name": "stdout",
     "output_type": "stream",
     "text": [
      "-0.9391626886887121\n"
     ]
    }
   ],
   "source": [
    "# Your response here. \n",
    "## Negative correlation, line seems to fit well... this is confirmed by the r_value, which is almost -1\n",
    "\n",
    "print(r_value)\n",
    "\n",
    "\n",
    "\n"
   ]
  },
  {
   "cell_type": "markdown",
   "metadata": {},
   "source": [
    "## Challenge 2\n",
    "For the second part of this lab, we will use the vehicles.csv data set. You can find a copy of the dataset in the git hub folder. This dataset includes variables related to vehicle characteristics, including the model, make, and energy efficiency standards, as well as each car's CO2 emissions. As discussed in class the goal of this exercise is to predict vehicles' CO2 emissions based on several independent variables. "
   ]
  },
  {
   "cell_type": "code",
   "execution_count": 19,
   "metadata": {},
   "outputs": [
    {
     "data": {
      "text/html": [
       "<div>\n",
       "<style scoped>\n",
       "    .dataframe tbody tr th:only-of-type {\n",
       "        vertical-align: middle;\n",
       "    }\n",
       "\n",
       "    .dataframe tbody tr th {\n",
       "        vertical-align: top;\n",
       "    }\n",
       "\n",
       "    .dataframe thead th {\n",
       "        text-align: right;\n",
       "    }\n",
       "</style>\n",
       "<table border=\"1\" class=\"dataframe\">\n",
       "  <thead>\n",
       "    <tr style=\"text-align: right;\">\n",
       "      <th></th>\n",
       "      <th>Make</th>\n",
       "      <th>Model</th>\n",
       "      <th>Year</th>\n",
       "      <th>Engine Displacement</th>\n",
       "      <th>Cylinders</th>\n",
       "      <th>Transmission</th>\n",
       "      <th>Drivetrain</th>\n",
       "      <th>Vehicle Class</th>\n",
       "      <th>Fuel Type</th>\n",
       "      <th>Fuel Barrels/Year</th>\n",
       "      <th>City MPG</th>\n",
       "      <th>Highway MPG</th>\n",
       "      <th>Combined MPG</th>\n",
       "      <th>CO2 Emission Grams/Mile</th>\n",
       "      <th>Fuel Cost/Year</th>\n",
       "    </tr>\n",
       "  </thead>\n",
       "  <tbody>\n",
       "    <tr>\n",
       "      <td>0</td>\n",
       "      <td>AM General</td>\n",
       "      <td>DJ Po Vehicle 2WD</td>\n",
       "      <td>1984</td>\n",
       "      <td>2.5</td>\n",
       "      <td>4.0</td>\n",
       "      <td>Automatic 3-spd</td>\n",
       "      <td>2-Wheel Drive</td>\n",
       "      <td>Special Purpose Vehicle 2WD</td>\n",
       "      <td>Regular</td>\n",
       "      <td>19.388824</td>\n",
       "      <td>18</td>\n",
       "      <td>17</td>\n",
       "      <td>17</td>\n",
       "      <td>522.764706</td>\n",
       "      <td>1950</td>\n",
       "    </tr>\n",
       "    <tr>\n",
       "      <td>1</td>\n",
       "      <td>AM General</td>\n",
       "      <td>FJ8c Post Office</td>\n",
       "      <td>1984</td>\n",
       "      <td>4.2</td>\n",
       "      <td>6.0</td>\n",
       "      <td>Automatic 3-spd</td>\n",
       "      <td>2-Wheel Drive</td>\n",
       "      <td>Special Purpose Vehicle 2WD</td>\n",
       "      <td>Regular</td>\n",
       "      <td>25.354615</td>\n",
       "      <td>13</td>\n",
       "      <td>13</td>\n",
       "      <td>13</td>\n",
       "      <td>683.615385</td>\n",
       "      <td>2550</td>\n",
       "    </tr>\n",
       "    <tr>\n",
       "      <td>2</td>\n",
       "      <td>AM General</td>\n",
       "      <td>Post Office DJ5 2WD</td>\n",
       "      <td>1985</td>\n",
       "      <td>2.5</td>\n",
       "      <td>4.0</td>\n",
       "      <td>Automatic 3-spd</td>\n",
       "      <td>Rear-Wheel Drive</td>\n",
       "      <td>Special Purpose Vehicle 2WD</td>\n",
       "      <td>Regular</td>\n",
       "      <td>20.600625</td>\n",
       "      <td>16</td>\n",
       "      <td>17</td>\n",
       "      <td>16</td>\n",
       "      <td>555.437500</td>\n",
       "      <td>2100</td>\n",
       "    </tr>\n",
       "    <tr>\n",
       "      <td>3</td>\n",
       "      <td>AM General</td>\n",
       "      <td>Post Office DJ8 2WD</td>\n",
       "      <td>1985</td>\n",
       "      <td>4.2</td>\n",
       "      <td>6.0</td>\n",
       "      <td>Automatic 3-spd</td>\n",
       "      <td>Rear-Wheel Drive</td>\n",
       "      <td>Special Purpose Vehicle 2WD</td>\n",
       "      <td>Regular</td>\n",
       "      <td>25.354615</td>\n",
       "      <td>13</td>\n",
       "      <td>13</td>\n",
       "      <td>13</td>\n",
       "      <td>683.615385</td>\n",
       "      <td>2550</td>\n",
       "    </tr>\n",
       "    <tr>\n",
       "      <td>4</td>\n",
       "      <td>ASC Incorporated</td>\n",
       "      <td>GNX</td>\n",
       "      <td>1987</td>\n",
       "      <td>3.8</td>\n",
       "      <td>6.0</td>\n",
       "      <td>Automatic 4-spd</td>\n",
       "      <td>Rear-Wheel Drive</td>\n",
       "      <td>Midsize Cars</td>\n",
       "      <td>Premium</td>\n",
       "      <td>20.600625</td>\n",
       "      <td>14</td>\n",
       "      <td>21</td>\n",
       "      <td>16</td>\n",
       "      <td>555.437500</td>\n",
       "      <td>2550</td>\n",
       "    </tr>\n",
       "  </tbody>\n",
       "</table>\n",
       "</div>"
      ],
      "text/plain": [
       "               Make                Model  Year  Engine Displacement  \\\n",
       "0        AM General    DJ Po Vehicle 2WD  1984                  2.5   \n",
       "1        AM General     FJ8c Post Office  1984                  4.2   \n",
       "2        AM General  Post Office DJ5 2WD  1985                  2.5   \n",
       "3        AM General  Post Office DJ8 2WD  1985                  4.2   \n",
       "4  ASC Incorporated                  GNX  1987                  3.8   \n",
       "\n",
       "   Cylinders     Transmission        Drivetrain                Vehicle Class  \\\n",
       "0        4.0  Automatic 3-spd     2-Wheel Drive  Special Purpose Vehicle 2WD   \n",
       "1        6.0  Automatic 3-spd     2-Wheel Drive  Special Purpose Vehicle 2WD   \n",
       "2        4.0  Automatic 3-spd  Rear-Wheel Drive  Special Purpose Vehicle 2WD   \n",
       "3        6.0  Automatic 3-spd  Rear-Wheel Drive  Special Purpose Vehicle 2WD   \n",
       "4        6.0  Automatic 4-spd  Rear-Wheel Drive                 Midsize Cars   \n",
       "\n",
       "  Fuel Type  Fuel Barrels/Year  City MPG  Highway MPG  Combined MPG  \\\n",
       "0   Regular          19.388824        18           17            17   \n",
       "1   Regular          25.354615        13           13            13   \n",
       "2   Regular          20.600625        16           17            16   \n",
       "3   Regular          25.354615        13           13            13   \n",
       "4   Premium          20.600625        14           21            16   \n",
       "\n",
       "   CO2 Emission Grams/Mile  Fuel Cost/Year  \n",
       "0               522.764706            1950  \n",
       "1               683.615385            2550  \n",
       "2               555.437500            2100  \n",
       "3               683.615385            2550  \n",
       "4               555.437500            2550  "
      ]
     },
     "execution_count": 19,
     "metadata": {},
     "output_type": "execute_result"
    }
   ],
   "source": [
    "# Import any libraries you may need & the data\n",
    "import numpy as np\n",
    "import pandas as pd\n",
    "import matplotlib\n",
    "import matplotlib.pyplot as plt\n",
    "\n",
    "vehicles = pd.read_csv('vehicles.csv')\n",
    "vehicles.head()"
   ]
  },
  {
   "cell_type": "markdown",
   "metadata": {},
   "source": [
    "Let's use the following variables for our analysis: Year, Cylinders, Fuel Barrels/Year, Combined MPG, and Fuel Cost/Year. We will use 'CO2 Emission Grams/Mile' as our outcome variable. \n",
    "\n",
    "Calculate the correlations between each of these variables and the outcome. Which variable do you think will be the most important in determining CO2 emissions? Which provides the least amount of helpful information for determining CO2 emissions? Add your responses as comments after your code."
   ]
  },
  {
   "cell_type": "code",
   "execution_count": 24,
   "metadata": {},
   "outputs": [
    {
     "data": {
      "text/html": [
       "<div>\n",
       "<style scoped>\n",
       "    .dataframe tbody tr th:only-of-type {\n",
       "        vertical-align: middle;\n",
       "    }\n",
       "\n",
       "    .dataframe tbody tr th {\n",
       "        vertical-align: top;\n",
       "    }\n",
       "\n",
       "    .dataframe thead th {\n",
       "        text-align: right;\n",
       "    }\n",
       "</style>\n",
       "<table border=\"1\" class=\"dataframe\">\n",
       "  <thead>\n",
       "    <tr style=\"text-align: right;\">\n",
       "      <th></th>\n",
       "      <th>0</th>\n",
       "      <th>1</th>\n",
       "      <th>2</th>\n",
       "      <th>3</th>\n",
       "      <th>4</th>\n",
       "      <th>5</th>\n",
       "      <th>6</th>\n",
       "      <th>7</th>\n",
       "      <th>8</th>\n",
       "      <th>9</th>\n",
       "      <th>...</th>\n",
       "      <th>35942</th>\n",
       "      <th>35943</th>\n",
       "      <th>35944</th>\n",
       "      <th>35945</th>\n",
       "      <th>35946</th>\n",
       "      <th>35947</th>\n",
       "      <th>35948</th>\n",
       "      <th>35949</th>\n",
       "      <th>35950</th>\n",
       "      <th>35951</th>\n",
       "    </tr>\n",
       "  </thead>\n",
       "  <tbody>\n",
       "    <tr>\n",
       "      <td>0</td>\n",
       "      <td>1.000000</td>\n",
       "      <td>0.984902</td>\n",
       "      <td>0.998858</td>\n",
       "      <td>0.984957</td>\n",
       "      <td>0.985508</td>\n",
       "      <td>0.985188</td>\n",
       "      <td>0.977004</td>\n",
       "      <td>0.993678</td>\n",
       "      <td>0.985135</td>\n",
       "      <td>0.976940</td>\n",
       "      <td>...</td>\n",
       "      <td>0.936924</td>\n",
       "      <td>0.936836</td>\n",
       "      <td>0.936748</td>\n",
       "      <td>0.936660</td>\n",
       "      <td>0.936571</td>\n",
       "      <td>0.936392</td>\n",
       "      <td>0.936272</td>\n",
       "      <td>0.936216</td>\n",
       "      <td>0.936192</td>\n",
       "      <td>0.943987</td>\n",
       "    </tr>\n",
       "    <tr>\n",
       "      <td>1</td>\n",
       "      <td>0.984902</td>\n",
       "      <td>1.000000</td>\n",
       "      <td>0.992033</td>\n",
       "      <td>1.000000</td>\n",
       "      <td>0.998927</td>\n",
       "      <td>0.940628</td>\n",
       "      <td>0.925346</td>\n",
       "      <td>0.959242</td>\n",
       "      <td>0.940524</td>\n",
       "      <td>0.925233</td>\n",
       "      <td>...</td>\n",
       "      <td>0.862433</td>\n",
       "      <td>0.862305</td>\n",
       "      <td>0.862177</td>\n",
       "      <td>0.862049</td>\n",
       "      <td>0.861921</td>\n",
       "      <td>0.861678</td>\n",
       "      <td>0.861510</td>\n",
       "      <td>0.861423</td>\n",
       "      <td>0.861376</td>\n",
       "      <td>0.872812</td>\n",
       "    </tr>\n",
       "    <tr>\n",
       "      <td>2</td>\n",
       "      <td>0.998858</td>\n",
       "      <td>0.992033</td>\n",
       "      <td>1.000000</td>\n",
       "      <td>0.992073</td>\n",
       "      <td>0.992311</td>\n",
       "      <td>0.975883</td>\n",
       "      <td>0.965729</td>\n",
       "      <td>0.987188</td>\n",
       "      <td>0.975816</td>\n",
       "      <td>0.965651</td>\n",
       "      <td>...</td>\n",
       "      <td>0.919303</td>\n",
       "      <td>0.919203</td>\n",
       "      <td>0.919104</td>\n",
       "      <td>0.919004</td>\n",
       "      <td>0.918905</td>\n",
       "      <td>0.918712</td>\n",
       "      <td>0.918579</td>\n",
       "      <td>0.918513</td>\n",
       "      <td>0.918480</td>\n",
       "      <td>0.927307</td>\n",
       "    </tr>\n",
       "    <tr>\n",
       "      <td>3</td>\n",
       "      <td>0.984957</td>\n",
       "      <td>1.000000</td>\n",
       "      <td>0.992073</td>\n",
       "      <td>1.000000</td>\n",
       "      <td>0.998930</td>\n",
       "      <td>0.940737</td>\n",
       "      <td>0.925467</td>\n",
       "      <td>0.959332</td>\n",
       "      <td>0.940632</td>\n",
       "      <td>0.925353</td>\n",
       "      <td>...</td>\n",
       "      <td>0.862593</td>\n",
       "      <td>0.862466</td>\n",
       "      <td>0.862338</td>\n",
       "      <td>0.862210</td>\n",
       "      <td>0.862082</td>\n",
       "      <td>0.861840</td>\n",
       "      <td>0.861672</td>\n",
       "      <td>0.861585</td>\n",
       "      <td>0.861537</td>\n",
       "      <td>0.872967</td>\n",
       "    </tr>\n",
       "    <tr>\n",
       "      <td>4</td>\n",
       "      <td>0.985508</td>\n",
       "      <td>0.998927</td>\n",
       "      <td>0.992311</td>\n",
       "      <td>0.998930</td>\n",
       "      <td>1.000000</td>\n",
       "      <td>0.942859</td>\n",
       "      <td>0.928126</td>\n",
       "      <td>0.960905</td>\n",
       "      <td>0.942757</td>\n",
       "      <td>0.928016</td>\n",
       "      <td>...</td>\n",
       "      <td>0.867499</td>\n",
       "      <td>0.867373</td>\n",
       "      <td>0.867246</td>\n",
       "      <td>0.867120</td>\n",
       "      <td>0.866994</td>\n",
       "      <td>0.866817</td>\n",
       "      <td>0.866673</td>\n",
       "      <td>0.866565</td>\n",
       "      <td>0.866475</td>\n",
       "      <td>0.877787</td>\n",
       "    </tr>\n",
       "    <tr>\n",
       "      <td>...</td>\n",
       "      <td>...</td>\n",
       "      <td>...</td>\n",
       "      <td>...</td>\n",
       "      <td>...</td>\n",
       "      <td>...</td>\n",
       "      <td>...</td>\n",
       "      <td>...</td>\n",
       "      <td>...</td>\n",
       "      <td>...</td>\n",
       "      <td>...</td>\n",
       "      <td>...</td>\n",
       "      <td>...</td>\n",
       "      <td>...</td>\n",
       "      <td>...</td>\n",
       "      <td>...</td>\n",
       "      <td>...</td>\n",
       "      <td>...</td>\n",
       "      <td>...</td>\n",
       "      <td>...</td>\n",
       "      <td>...</td>\n",
       "      <td>...</td>\n",
       "    </tr>\n",
       "    <tr>\n",
       "      <td>35947</td>\n",
       "      <td>0.936392</td>\n",
       "      <td>0.861678</td>\n",
       "      <td>0.918712</td>\n",
       "      <td>0.861840</td>\n",
       "      <td>0.866817</td>\n",
       "      <td>0.982517</td>\n",
       "      <td>0.989545</td>\n",
       "      <td>0.969743</td>\n",
       "      <td>0.982574</td>\n",
       "      <td>0.989587</td>\n",
       "      <td>...</td>\n",
       "      <td>0.999998</td>\n",
       "      <td>0.999998</td>\n",
       "      <td>0.999999</td>\n",
       "      <td>0.999999</td>\n",
       "      <td>0.999999</td>\n",
       "      <td>1.000000</td>\n",
       "      <td>1.000000</td>\n",
       "      <td>1.000000</td>\n",
       "      <td>0.999999</td>\n",
       "      <td>0.999748</td>\n",
       "    </tr>\n",
       "    <tr>\n",
       "      <td>35948</td>\n",
       "      <td>0.936272</td>\n",
       "      <td>0.861510</td>\n",
       "      <td>0.918579</td>\n",
       "      <td>0.861672</td>\n",
       "      <td>0.866673</td>\n",
       "      <td>0.982448</td>\n",
       "      <td>0.989490</td>\n",
       "      <td>0.969655</td>\n",
       "      <td>0.982505</td>\n",
       "      <td>0.989532</td>\n",
       "      <td>...</td>\n",
       "      <td>0.999997</td>\n",
       "      <td>0.999997</td>\n",
       "      <td>0.999998</td>\n",
       "      <td>0.999998</td>\n",
       "      <td>0.999998</td>\n",
       "      <td>1.000000</td>\n",
       "      <td>1.000000</td>\n",
       "      <td>1.000000</td>\n",
       "      <td>0.999999</td>\n",
       "      <td>0.999741</td>\n",
       "    </tr>\n",
       "    <tr>\n",
       "      <td>35949</td>\n",
       "      <td>0.936216</td>\n",
       "      <td>0.861423</td>\n",
       "      <td>0.918513</td>\n",
       "      <td>0.861585</td>\n",
       "      <td>0.866565</td>\n",
       "      <td>0.982425</td>\n",
       "      <td>0.989473</td>\n",
       "      <td>0.969621</td>\n",
       "      <td>0.982482</td>\n",
       "      <td>0.989516</td>\n",
       "      <td>...</td>\n",
       "      <td>0.999997</td>\n",
       "      <td>0.999998</td>\n",
       "      <td>0.999998</td>\n",
       "      <td>0.999998</td>\n",
       "      <td>0.999999</td>\n",
       "      <td>1.000000</td>\n",
       "      <td>1.000000</td>\n",
       "      <td>1.000000</td>\n",
       "      <td>1.000000</td>\n",
       "      <td>0.999737</td>\n",
       "    </tr>\n",
       "    <tr>\n",
       "      <td>35950</td>\n",
       "      <td>0.936192</td>\n",
       "      <td>0.861376</td>\n",
       "      <td>0.918480</td>\n",
       "      <td>0.861537</td>\n",
       "      <td>0.866475</td>\n",
       "      <td>0.982425</td>\n",
       "      <td>0.989476</td>\n",
       "      <td>0.969613</td>\n",
       "      <td>0.982482</td>\n",
       "      <td>0.989519</td>\n",
       "      <td>...</td>\n",
       "      <td>0.999998</td>\n",
       "      <td>0.999998</td>\n",
       "      <td>0.999999</td>\n",
       "      <td>0.999999</td>\n",
       "      <td>0.999999</td>\n",
       "      <td>0.999999</td>\n",
       "      <td>0.999999</td>\n",
       "      <td>1.000000</td>\n",
       "      <td>1.000000</td>\n",
       "      <td>0.999732</td>\n",
       "    </tr>\n",
       "    <tr>\n",
       "      <td>35951</td>\n",
       "      <td>0.943987</td>\n",
       "      <td>0.872812</td>\n",
       "      <td>0.927307</td>\n",
       "      <td>0.872967</td>\n",
       "      <td>0.877787</td>\n",
       "      <td>0.986381</td>\n",
       "      <td>0.992469</td>\n",
       "      <td>0.974921</td>\n",
       "      <td>0.986431</td>\n",
       "      <td>0.992504</td>\n",
       "      <td>...</td>\n",
       "      <td>0.999777</td>\n",
       "      <td>0.999772</td>\n",
       "      <td>0.999766</td>\n",
       "      <td>0.999761</td>\n",
       "      <td>0.999755</td>\n",
       "      <td>0.999748</td>\n",
       "      <td>0.999741</td>\n",
       "      <td>0.999737</td>\n",
       "      <td>0.999732</td>\n",
       "      <td>1.000000</td>\n",
       "    </tr>\n",
       "  </tbody>\n",
       "</table>\n",
       "<p>35952 rows × 35952 columns</p>\n",
       "</div>"
      ],
      "text/plain": [
       "          0         1         2         3         4         5         6      \\\n",
       "0      1.000000  0.984902  0.998858  0.984957  0.985508  0.985188  0.977004   \n",
       "1      0.984902  1.000000  0.992033  1.000000  0.998927  0.940628  0.925346   \n",
       "2      0.998858  0.992033  1.000000  0.992073  0.992311  0.975883  0.965729   \n",
       "3      0.984957  1.000000  0.992073  1.000000  0.998930  0.940737  0.925467   \n",
       "4      0.985508  0.998927  0.992311  0.998930  1.000000  0.942859  0.928126   \n",
       "...         ...       ...       ...       ...       ...       ...       ...   \n",
       "35947  0.936392  0.861678  0.918712  0.861840  0.866817  0.982517  0.989545   \n",
       "35948  0.936272  0.861510  0.918579  0.861672  0.866673  0.982448  0.989490   \n",
       "35949  0.936216  0.861423  0.918513  0.861585  0.866565  0.982425  0.989473   \n",
       "35950  0.936192  0.861376  0.918480  0.861537  0.866475  0.982425  0.989476   \n",
       "35951  0.943987  0.872812  0.927307  0.872967  0.877787  0.986381  0.992469   \n",
       "\n",
       "          7         8         9      ...     35942     35943     35944  \\\n",
       "0      0.993678  0.985135  0.976940  ...  0.936924  0.936836  0.936748   \n",
       "1      0.959242  0.940524  0.925233  ...  0.862433  0.862305  0.862177   \n",
       "2      0.987188  0.975816  0.965651  ...  0.919303  0.919203  0.919104   \n",
       "3      0.959332  0.940632  0.925353  ...  0.862593  0.862466  0.862338   \n",
       "4      0.960905  0.942757  0.928016  ...  0.867499  0.867373  0.867246   \n",
       "...         ...       ...       ...  ...       ...       ...       ...   \n",
       "35947  0.969743  0.982574  0.989587  ...  0.999998  0.999998  0.999999   \n",
       "35948  0.969655  0.982505  0.989532  ...  0.999997  0.999997  0.999998   \n",
       "35949  0.969621  0.982482  0.989516  ...  0.999997  0.999998  0.999998   \n",
       "35950  0.969613  0.982482  0.989519  ...  0.999998  0.999998  0.999999   \n",
       "35951  0.974921  0.986431  0.992504  ...  0.999777  0.999772  0.999766   \n",
       "\n",
       "          35945     35946     35947     35948     35949     35950     35951  \n",
       "0      0.936660  0.936571  0.936392  0.936272  0.936216  0.936192  0.943987  \n",
       "1      0.862049  0.861921  0.861678  0.861510  0.861423  0.861376  0.872812  \n",
       "2      0.919004  0.918905  0.918712  0.918579  0.918513  0.918480  0.927307  \n",
       "3      0.862210  0.862082  0.861840  0.861672  0.861585  0.861537  0.872967  \n",
       "4      0.867120  0.866994  0.866817  0.866673  0.866565  0.866475  0.877787  \n",
       "...         ...       ...       ...       ...       ...       ...       ...  \n",
       "35947  0.999999  0.999999  1.000000  1.000000  1.000000  0.999999  0.999748  \n",
       "35948  0.999998  0.999998  1.000000  1.000000  1.000000  0.999999  0.999741  \n",
       "35949  0.999998  0.999999  1.000000  1.000000  1.000000  1.000000  0.999737  \n",
       "35950  0.999999  0.999999  0.999999  0.999999  1.000000  1.000000  0.999732  \n",
       "35951  0.999761  0.999755  0.999748  0.999741  0.999737  0.999732  1.000000  \n",
       "\n",
       "[35952 rows x 35952 columns]"
      ]
     },
     "execution_count": 24,
     "metadata": {},
     "output_type": "execute_result"
    }
   ],
   "source": [
    "# Your response here. \n",
    "vehicles = vehicles[['Year', 'Cylinders', 'Fuel Barrels/Year', 'Combined MPG', 'Fuel Cost/Year', 'CO2 Emission Grams/Mile']]\n",
    "pd.DataFrame(np.corrcoef(vehicles))\n"
   ]
  },
  {
   "cell_type": "markdown",
   "metadata": {},
   "source": [
    "Build a regression model for this data. What type of regression are you using? Add your responses as comments after your code."
   ]
  },
  {
   "cell_type": "code",
   "execution_count": 33,
   "metadata": {},
   "outputs": [
    {
     "name": "stdout",
     "output_type": "stream",
     "text": [
      "Intercept:  769.8882836465834\n",
      "Coef:  [-0.32061673  1.87879976 19.05292507 -3.04039938  0.03230948]\n"
     ]
    }
   ],
   "source": [
    "# Your response here. \n",
    "\n",
    "from sklearn.linear_model import LinearRegression\n",
    "X = vehicles[['Year', 'Cylinders', 'Fuel Barrels/Year', 'Combined MPG', 'Fuel Cost/Year']]\n",
    "Y = vehicles['CO2 Emission Grams/Mile']\n",
    "\n",
    "lm = LinearRegression()\n",
    "model = lm.fit(X,Y)\n",
    "\n",
    "print(\"Intercept: \", lm.intercept_)\n",
    "print(\"Coef: \", lm.coef_)\n",
    "\n",
    "predictions  = lm.predict(X)"
   ]
  },
  {
   "cell_type": "markdown",
   "metadata": {},
   "source": [
    "Print your regression summary, and interpret the results. What are the most important varibles in your model and why? What can conclusions can you draw from your model and how confident in these conclusions are you? Add your responses as comments after your code."
   ]
  },
  {
   "cell_type": "code",
   "execution_count": null,
   "metadata": {},
   "outputs": [],
   "source": [
    "# Your response here. \n",
    "# depends on what is important?  First impression is, that 'Fuel Barrels/Year' is the most important, because its the biggest, but actually we cant say, because it depends on the max-min (var) of the original datas... "
   ]
  },
  {
   "cell_type": "markdown",
   "metadata": {},
   "source": [
    "## Challenge 2: Error Analysis"
   ]
  },
  {
   "cell_type": "markdown",
   "metadata": {},
   "source": [
    "I am suspicious about the last few parties I have thrown: it seems that the more people I invite the more people are unable to attend. To know if my hunch is supported by data, I have decided to do an analysis. I have collected my data in the table below, where X is the number of people I invited, and Y is the number of people who attended. \n",
    "\n",
    "|  X |  Y |\n",
    "|----|----|\n",
    "| 1  |  1 |\n",
    "| 3  |  2 |\n",
    "| 4  |  4 |\n",
    "| 6  |  4 |\n",
    "| 8  |  5 |\n",
    "| 9  |  7 |\n",
    "| 11 |  8 |\n",
    "| 14 |  13 |"
   ]
  },
  {
   "cell_type": "markdown",
   "metadata": {},
   "source": [
    "We want to know if the relationship modeled by the two random variables is linear or not, and therefore if it is appropriate to model it with a linear regression. \n",
    "First, build a dataframe with the data. "
   ]
  },
  {
   "cell_type": "code",
   "execution_count": 41,
   "metadata": {},
   "outputs": [],
   "source": [
    "# Your code here.\n",
    "party = pd.DataFrame({'people_invited': [1,3,4,6,8,9,11,14], 'attends': [1,2,4,4,5,7,8,13]})\n",
    "party['rel_attends'] = party['attends']/ party['people_invited'] "
   ]
  },
  {
   "cell_type": "markdown",
   "metadata": {},
   "source": [
    "Draw a dispersion diagram (scatter plot) for the data, and fit a regression line."
   ]
  },
  {
   "cell_type": "code",
   "execution_count": 67,
   "metadata": {},
   "outputs": [
    {
     "data": {
      "image/png": "[encoded data removed]",
      "text/plain": [
       "<Figure size 432x288 with 1 Axes>"
      ]
     },
     "metadata": {
      "needs_background": "light"
     },
     "output_type": "display_data"
    },
    {
     "name": "stdout",
     "output_type": "stream",
     "text": [
      "0.9652303546573691\n"
     ]
    },
    {
     "data": {
      "image/png": "[encoded data removed]",
      "text/plain": [
       "<Figure size 432x288 with 1 Axes>"
      ]
     },
     "metadata": {
      "needs_background": "light"
     },
     "output_type": "display_data"
    },
    {
     "name": "stdout",
     "output_type": "stream",
     "text": [
      "-0.1576961278510599\n"
     ]
    }
   ],
   "source": [
    "# Your code here.\n",
    "from scipy import stats\n",
    "### plot 1\n",
    "\n",
    "\n",
    "X = party['people_invited']\n",
    "Y = party['attends']\n",
    "\n",
    "slope, intercept, r_value, p_value, std_err = stats.linregress(X, Y)\n",
    "\n",
    "Y_pred = intercept + slope * party['people_invited']\n",
    "\n",
    "\n",
    "plt.scatter(X, Y)\n",
    "plt.plot(X, Y_pred, color='red')\n",
    "plt.show()\n",
    "\n",
    "print(r_value)\n",
    "\n",
    "### plot 2\n",
    "\n",
    "X = party['people_invited']\n",
    "Y = party['rel_attends']\n",
    "\n",
    "\n",
    "slope, intercept, r_value, p_value, std_err = stats.linregress(X, Y)\n",
    "\n",
    "Y_pred = intercept + slope * party['people_invited']\n",
    "\n",
    "\n",
    "plt.scatter(X, Y)\n",
    "plt.plot(X, Y_pred, color='red')\n",
    "plt.show()\n",
    "print(r_value)"
   ]
  },
  {
   "cell_type": "markdown",
   "metadata": {},
   "source": [
    "What do you see? What does this plot tell you about the likely relationship between the variables? Print the results from your regression."
   ]
  },
  {
   "cell_type": "code",
   "execution_count": null,
   "metadata": {},
   "outputs": [],
   "source": [
    "# Your response here. \n",
    "## the more people invited, the more people attends, and also the more people do not attend.\n",
    "## more interesting is actually the relative attendance.. there, you cant see any relationsship"
   ]
  },
  {
   "cell_type": "markdown",
   "metadata": {},
   "source": [
    "Do you see any problematic points, or outliers, in your data? Remove these points and recalculate your regression. Print the new dispersion diagram with your new model and the results of your model. "
   ]
  },
  {
   "cell_type": "code",
   "execution_count": 54,
   "metadata": {},
   "outputs": [],
   "source": [
    "# Your response here. \n",
    "#no,....\n",
    "\n",
    "# but maybe witht he relative attendance we could drop the values with 100% attendance\n",
    "\n",
    "party2 = party[party.rel_attends != 1]\n"
   ]
  },
  {
   "cell_type": "markdown",
   "metadata": {},
   "source": [
    "What changed? Based on the results of the two models and your graphs, what can you say about the form of the data with the problematic point and without it?"
   ]
  },
  {
   "cell_type": "code",
   "execution_count": 68,
   "metadata": {},
   "outputs": [
    {
     "data": {
      "image/png": "[encoded data removed]",
      "text/plain": [
       "<Figure size 432x288 with 1 Axes>"
      ]
     },
     "metadata": {
      "needs_background": "light"
     },
     "output_type": "display_data"
    },
    {
     "data": {
      "text/plain": [
       "0.7895853370329716"
      ]
     },
     "execution_count": 68,
     "metadata": {},
     "output_type": "execute_result"
    }
   ],
   "source": [
    "# Your response here. \n",
    "#nothing changed, because i \n",
    "\n",
    "X = party2['people_invited']\n",
    "Y = party2['rel_attends']\n",
    "\n",
    "slope, intercept, r_value, p_value, std_err = stats.linregress(X, Y)\n",
    "\n",
    "Y_pred = intercept + slope * party2['people_invited']\n",
    "\n",
    "\n",
    "plt.scatter(X, Y)\n",
    "plt.plot(X, Y_pred, color='red')\n",
    "plt.show()\n",
    "r_value\n",
    "### better correlation, and the modell fit better (r_value got from 0.15 to 0.79).  but for me, it doesnt make sense to drop this outliers, because its important informatin, that when you invite 1 person, that this most likelay will come, otherwise there is no party:-)  "
   ]
  }
 ],
 "metadata": {
  "kernelspec": {
   "display_name": "Python 3",
   "language": "python",
   "name": "python3"
  },
  "language_info": {
   "codemirror_mode": {
    "name": "ipython",
    "version": 3
   },
   "file_extension": ".py",
   "mimetype": "text/x-python",
   "name": "python",
   "nbconvert_exporter": "python",
   "pygments_lexer": "ipython3",
   "version": "3.7.4"
  }
 },
 "nbformat": 4,
 "nbformat_minor": 2
}
